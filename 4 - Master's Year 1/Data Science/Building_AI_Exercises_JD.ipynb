{
  "nbformat": 4,
  "nbformat_minor": 0,
  "metadata": {
    "colab": {
      "provenance": []
    },
    "kernelspec": {
      "name": "python3",
      "display_name": "Python 3"
    },
    "language_info": {
      "name": "python"
    }
  },
  "cells": [
    {
      "cell_type": "markdown",
      "source": [
        "This notebooks contains the code exercises from the Building AI course."
      ],
      "metadata": {
        "id": "7ZBe89Ejkr7-"
      }
    },
    {
      "cell_type": "markdown",
      "source": [
        "Chapter 1"
      ],
      "metadata": {
        "id": "cokV5ZGvigEx"
      }
    },
    {
      "cell_type": "markdown",
      "source": [
        "Section 1"
      ],
      "metadata": {
        "id": "QDpEiot3ijYv"
      }
    },
    {
      "cell_type": "code",
      "source": [
        "# Solving this exercise will be helpful in the first actual exercise\n",
        "# (Exercise 1), so consider using this as an opportunity to warm up.\n",
        "#\n",
        "# Your task is the define a function that returns the so called\n",
        "# factorial: for any non-negative integer n, the factorial is defined\n",
        "# as 1 * 2 * ... * n. For example, factorial(5) = 1*2*3*4*5 = 120.\n",
        "#\n",
        "# Hint: the simplest way to compute the factorial is to use a\n",
        "# recursive function, or in other words, a function that calls\n",
        "# itself as in\n",
        "#     factorial(n) = n * factorial(n-1)\n",
        "# The recursion should terminate at factorial(0) = 1 so that we\n",
        "# don't create an infinite loop.\n",
        "def factorial(n):\n",
        "    if n == 0:\n",
        "        return 1\n",
        "    else:\n",
        "        return n * factorial(n-1)  # <-- replace this with the recursive call\n",
        "\n",
        "print(factorial(6))              # this should print 720"
      ],
      "metadata": {
        "colab": {
          "base_uri": "https://localhost:8080/"
        },
        "id": "at2Kxlvvhi99",
        "outputId": "00e9860b-9a00-4b88-a889-6706b983612a"
      },
      "execution_count": null,
      "outputs": [
        {
          "output_type": "stream",
          "name": "stdout",
          "text": [
            "720\n"
          ]
        }
      ]
    },
    {
      "cell_type": "markdown",
      "source": [
        "Section 2"
      ],
      "metadata": {
        "id": "eVGW4nyPh74y"
      }
    },
    {
      "cell_type": "code",
      "source": [
        "def main():\n",
        "    portnames = [\"PAN\", \"AMS\", \"CAS\", \"NYC\", \"HEL\"]\n",
        "    ports = [0, 1, 2, 3, 4]\n",
        "\n",
        "    port1 = 0\n",
        "    for port2 in range(1, 5):\n",
        "        for port3 in range(1, 5):\n",
        "            for port4 in range(1, 5):\n",
        "                for port5 in range(1, 5):\n",
        "                    route = [port1, port2, port3, port4, port5]\n",
        "\n",
        "                    # Modify this if statement to check if the route is valid\n",
        "                    if set(route) == set(range(5)):\n",
        "                        # do not modify this print statement\n",
        "                        print(' '.join([portnames[i] for i in route]))\n",
        "\n",
        "main()\n"
      ],
      "metadata": {
        "colab": {
          "base_uri": "https://localhost:8080/"
        },
        "id": "YsgO7cMghpBw",
        "outputId": "1ca94b23-66f6-4f32-cbd0-4983c0d6d7c0"
      },
      "execution_count": null,
      "outputs": [
        {
          "output_type": "stream",
          "name": "stdout",
          "text": [
            "PAN AMS CAS NYC HEL\n",
            "PAN AMS CAS HEL NYC\n",
            "PAN AMS NYC CAS HEL\n",
            "PAN AMS NYC HEL CAS\n",
            "PAN AMS HEL CAS NYC\n",
            "PAN AMS HEL NYC CAS\n",
            "PAN CAS AMS NYC HEL\n",
            "PAN CAS AMS HEL NYC\n",
            "PAN CAS NYC AMS HEL\n",
            "PAN CAS NYC HEL AMS\n",
            "PAN CAS HEL AMS NYC\n",
            "PAN CAS HEL NYC AMS\n",
            "PAN NYC AMS CAS HEL\n",
            "PAN NYC AMS HEL CAS\n",
            "PAN NYC CAS AMS HEL\n",
            "PAN NYC CAS HEL AMS\n",
            "PAN NYC HEL AMS CAS\n",
            "PAN NYC HEL CAS AMS\n",
            "PAN HEL AMS CAS NYC\n",
            "PAN HEL AMS NYC CAS\n",
            "PAN HEL CAS AMS NYC\n",
            "PAN HEL CAS NYC AMS\n",
            "PAN HEL NYC AMS CAS\n",
            "PAN HEL NYC CAS AMS\n"
          ]
        }
      ]
    },
    {
      "cell_type": "code",
      "source": [
        "def main():\n",
        "    portnames = [\"PAN\", \"AMS\", \"CAS\", \"NYC\", \"HEL\"]\n",
        "\n",
        "    # https://sea-distances.org/\n",
        "    # nautical miles converted to km\n",
        "\n",
        "    D = [\n",
        "            [0,8943,8019,3652,10545],\n",
        "            [8943,0,2619,6317,2078],\n",
        "            [8019,2619,0,5836,4939],\n",
        "            [3652,6317,5836,0,7825],\n",
        "            [10545,2078,4939,7825,0]\n",
        "        ]\n",
        "\n",
        "    # https://timeforchange.org/co2-emissions-shipping-goods\n",
        "    # assume 20g per km per metric ton (of pineapples)\n",
        "\n",
        "\n",
        "    co2 = 0.020\n",
        "\n",
        "    port1 = 0\n",
        "    for port2 in range(1, 5):\n",
        "        for port3 in range(1, 5):\n",
        "            for port4 in range(1, 5):\n",
        "                for port5 in range(1, 5):\n",
        "                    route = [port1, port2, port3, port4, port5]\n",
        "\n",
        "                    # Modify this if statement to check if the route is valid\n",
        "                    if set(route) == set(range(5)):\n",
        "                        distance = D[route[0]][route[1]] + D[route[1]][route[2]] + D[route[2]][route[3]] + D[route[3]][route[4]]\n",
        "                        emissions = distance * co2\n",
        "                        print(' '.join([portnames[i] for i in route]) + \" %.1f kg\" % emissions)\n",
        "\n",
        "\n",
        "main()\n"
      ],
      "metadata": {
        "colab": {
          "base_uri": "https://localhost:8080/"
        },
        "id": "6bN0Fhn4hsdX",
        "outputId": "e1b1e4a1-849a-4642-d2bc-08b732e656fa"
      },
      "execution_count": null,
      "outputs": [
        {
          "output_type": "stream",
          "name": "stdout",
          "text": [
            "PAN AMS CAS NYC HEL 504.5 kg\n",
            "PAN AMS CAS HEL NYC 486.5 kg\n",
            "PAN AMS NYC CAS HEL 520.7 kg\n",
            "PAN AMS NYC HEL CAS 560.5 kg\n",
            "PAN AMS HEL CAS NYC 435.9 kg\n",
            "PAN AMS HEL NYC CAS 493.6 kg\n",
            "PAN CAS AMS NYC HEL 495.6 kg\n",
            "PAN CAS AMS HEL NYC 410.8 kg\n",
            "PAN CAS NYC AMS HEL 445.0 kg\n",
            "PAN CAS NYC HEL AMS 475.2 kg\n",
            "PAN CAS HEL AMS NYC 427.1 kg\n",
            "PAN CAS HEL NYC AMS 542.0 kg\n",
            "PAN NYC AMS CAS HEL 350.5 kg\n",
            "PAN NYC AMS HEL CAS 339.7 kg\n",
            "PAN NYC CAS AMS HEL 283.7 kg\n",
            "PAN NYC CAS HEL AMS 330.1 kg\n",
            "PAN NYC HEL AMS CAS 323.5 kg\n",
            "PAN NYC HEL CAS AMS 380.7 kg\n",
            "PAN HEL AMS CAS NYC 421.6 kg\n",
            "PAN HEL AMS NYC CAS 495.5 kg\n",
            "PAN HEL CAS AMS NYC 488.4 kg\n",
            "PAN HEL CAS NYC AMS 552.7 kg\n",
            "PAN HEL NYC AMS CAS 546.1 kg\n",
            "PAN HEL NYC CAS AMS 536.5 kg\n"
          ]
        }
      ]
    },
    {
      "cell_type": "markdown",
      "source": [
        "Section 3"
      ],
      "metadata": {
        "id": "mXT_iZsVinVx"
      }
    },
    {
      "cell_type": "code",
      "source": [
        "import math\n",
        "import random             \t# just for generating random mountains\n",
        "\n",
        "# generate random mountains\n",
        "w = [random.random()/3, random.random()/3, random.random()/3]\n",
        "h = [1.+math.sin(1+x/6.)*w[0]+math.sin(-.3+x/9.)*w[1]+math.sin(-.2+x/30.)*w[2] for x in range(100)]\n",
        "h[0] = 0.0; h[99] = 0.0\n",
        "\n",
        "def climb(x, h):\n",
        "    # keep climbing until we've found a summit\n",
        "    summit = False\n",
        "\n",
        "    # edit here\n",
        "    while not summit:\n",
        "        summit = True         # stop unless there's a way up\n",
        "        if h[x + 1] > h[x]:\n",
        "            x = x + 1         # right is higher, go there\n",
        "            summit = False    # and keep going\n",
        "        elif h[x - 1] > h[x]:\n",
        "            x = x - 1\n",
        "            summit = False\n",
        "    return x\n",
        "\n",
        "\n",
        "def main(h):\n",
        "\n",
        "    # start at a random place\n",
        "    x0 = random.randint(1, 98)\n",
        "    x = climb(x0, h)\n",
        "\n",
        "    print(\"Venla started at %d and got to %d\" % (x0, x))\n",
        "    return x0, x\n",
        "\n",
        "main(h)\n"
      ],
      "metadata": {
        "colab": {
          "base_uri": "https://localhost:8080/"
        },
        "id": "RFRaNmbUh9_f",
        "outputId": "8b3620b0-ce85-40e8-facf-ecfc44172547"
      },
      "execution_count": null,
      "outputs": [
        {
          "output_type": "stream",
          "name": "stdout",
          "text": [
            "Venla started at 89 and got to 74\n"
          ]
        },
        {
          "output_type": "execute_result",
          "data": {
            "text/plain": [
              "(89, 74)"
            ]
          },
          "metadata": {},
          "execution_count": 4
        }
      ]
    },
    {
      "cell_type": "code",
      "source": [
        "import random\n",
        "\n",
        "def main():\n",
        "    prob = 0.80\n",
        "    if random.random() < prob:\n",
        "        print('dog')\n",
        "    elif random.random() > prob:\n",
        "        print('cat')\n",
        "\n",
        "main()\n"
      ],
      "metadata": {
        "colab": {
          "base_uri": "https://localhost:8080/"
        },
        "id": "JmZe-CLXiBPu",
        "outputId": "de1d199c-5e54-4b98-d08a-4f9183c9aebb"
      },
      "execution_count": null,
      "outputs": [
        {
          "output_type": "stream",
          "name": "stdout",
          "text": [
            "dog\n"
          ]
        }
      ]
    },
    {
      "cell_type": "code",
      "source": [
        "import math, random        \t# just for generating random mountains\n",
        "import numpy as np\n",
        "\n",
        "n = 10000 # size of the problem: number of possible solutions x = 0, ..., n-1\n",
        "\n",
        "# generate random mountains\n",
        "def mountains(n):\n",
        "    h = [0]*n\n",
        "    for i in range(50):\n",
        "        c = random.randint(20, n-20)\n",
        "        w = random.randint(3, int(math.sqrt(n/5)))**2\n",
        "        s = random.random()\n",
        "        h[max(0, c-w):min(n, c+w)] = [h[i] + s*(w-abs(c-i)) for i in range(max(0, c-w), min(n, c+w))]\n",
        "\n",
        "    # scale the height so that the lowest point is 0.0 and the highest peak is 1.0\n",
        "    low = min(h)\n",
        "    high = max(h)\n",
        "    h = [y - low for y in h]\n",
        "    h = [y / (high-low) for y in h]\n",
        "    return h\n",
        "\n",
        "h = mountains(n)\n",
        "\n",
        "# start at a random place\n",
        "x0 = random.randint(1, n-1)\n",
        "x = x0\n",
        "\n",
        "# keep climbing for 5000 steps\n",
        "steps = 5000\n",
        "\n",
        "def main(h, x):\n",
        "    n = len(h)\n",
        "    # the climbing starts here\n",
        "    for step in range(steps):\n",
        "        # this is our temperature to to be used for simulated annealing\n",
        "        # it starts large and decreases with each step. you don't have to change this\n",
        "        T = 2*max(0, ((steps-step*1.2)/steps))**3\n",
        "\n",
        "        # let's try randomly moving (max. 1000 steps) left or right\n",
        "        # making sure we don't fall off the edge of the world at 0 or n-1\n",
        "        # the height at this point will be our candidate score, S_new\n",
        "        # while the height at our current location will be S_old\n",
        "        x_new = random.randint(max(0, x-1000), min(n-1, x+1000))\n",
        "\n",
        "        if h[x_new] > h[x]:\n",
        "            x = x_new           # the new position is higher, go there\n",
        "        else:\n",
        "            if (T != 0):\n",
        "                prob = np.exp(-(h[x] - h[x_new]) / T)\n",
        "                if random.random() < prob:\n",
        "                    x = x_new\n",
        "                               # add simulated annealing here. remember to handle T=0\n",
        "                               # correctly!\n",
        "\n",
        "    return x\n",
        "\n",
        "x = main(h, x0)\n",
        "print(\"ended up at %d, highest point is %d\" % (x, np.argmax(h)))\n"
      ],
      "metadata": {
        "colab": {
          "base_uri": "https://localhost:8080/"
        },
        "id": "W-FdzGMZiMIW",
        "outputId": "17bad7cb-17ca-451e-df9c-ee6696cbf5ec"
      },
      "execution_count": null,
      "outputs": [
        {
          "output_type": "stream",
          "name": "stdout",
          "text": [
            "ended up at 4511, highest point is 4511\n"
          ]
        }
      ]
    },
    {
      "cell_type": "markdown",
      "source": [
        "Chapter 2"
      ],
      "metadata": {
        "id": "ZYA4u_gSiQHq"
      }
    },
    {
      "cell_type": "markdown",
      "source": [
        "Section 1"
      ],
      "metadata": {
        "id": "3UvmTG5SiaRu"
      }
    },
    {
      "cell_type": "code",
      "source": [
        "def count11(seq):\n",
        "   # define this function and return the number of occurrences as a number\n",
        "    count = 0\n",
        "    if (len(seq) > 0):\n",
        "        for i in range(len(seq) - 1):\n",
        "            if (seq[i] == 1 and seq[i + 1] == 1):\n",
        "                count += 1\n",
        "        return count\n",
        "    return -1\n",
        "\n",
        "\n",
        "print(count11([0, 0, 1, 1, 1, 0])) # this should print 2\n"
      ],
      "metadata": {
        "colab": {
          "base_uri": "https://localhost:8080/"
        },
        "id": "hH37sl2oistF",
        "outputId": "7dc11e58-b01f-42b4-eafb-58628891060a"
      },
      "execution_count": null,
      "outputs": [
        {
          "output_type": "stream",
          "name": "stdout",
          "text": [
            "2\n"
          ]
        }
      ]
    },
    {
      "cell_type": "code",
      "source": [
        "def main():\n",
        "    countries = ['Denmark', 'Finland', 'Iceland', 'Norway', 'Sweden']\n",
        "    populations = [5615000, 5439000, 324000, 5080000, 9609000]\n",
        "    fishers = [1891, 2652, 3800, 11611, 1757]\n",
        "\n",
        "    total_fishers = sum(fishers)\n",
        "    total_population = sum(populations)\n",
        "\n",
        "    # write your solution here\n",
        "    probs = []\n",
        "    for i in range(len(countries)):\n",
        "        prob = fishers[i] / total_fishers * 100\n",
        "        probs.append(prob)\n",
        "    for country, prob in zip(countries, probs):\n",
        "        print(\"%s %.2f%%\" % (country, prob)) # modify this to print correct results\n",
        "\n",
        "main()\n"
      ],
      "metadata": {
        "colab": {
          "base_uri": "https://localhost:8080/"
        },
        "id": "659niuZoive7",
        "outputId": "c5e331e6-eaeb-4514-f114-4979111b79ae"
      },
      "execution_count": null,
      "outputs": [
        {
          "output_type": "stream",
          "name": "stdout",
          "text": [
            "Denmark 8.71%\n",
            "Finland 12.22%\n",
            "Iceland 17.50%\n",
            "Norway 53.48%\n",
            "Sweden 8.09%\n"
          ]
        }
      ]
    },
    {
      "cell_type": "markdown",
      "source": [
        "Section 2"
      ],
      "metadata": {
        "id": "Mz0jKRFsi4hZ"
      }
    },
    {
      "cell_type": "code",
      "source": [
        "def bot8(pbot, p8_bot, p8_human):\n",
        "    p8 = p8_bot * pbot + p8_human * (1 - pbot)\n",
        "    pbot_8 = (p8_bot * pbot) / p8\n",
        "    print(pbot_8)\n",
        "\n",
        "# you can change these values to test your program with different values\n",
        "pbot = 0.1\n",
        "p8_bot = 0.8\n",
        "p8_human = 0.05\n",
        "\n",
        "bot8(pbot, p8_bot, p8_human)\n"
      ],
      "metadata": {
        "colab": {
          "base_uri": "https://localhost:8080/"
        },
        "id": "GVQoJHEJi5UZ",
        "outputId": "f6429d88-cffc-4c6b-d838-8a1fb564149f"
      },
      "execution_count": null,
      "outputs": [
        {
          "output_type": "stream",
          "name": "stdout",
          "text": [
            "0.64\n"
          ]
        }
      ]
    },
    {
      "cell_type": "markdown",
      "source": [
        "Section 3"
      ],
      "metadata": {
        "id": "JiPTFDw3i8gb"
      }
    },
    {
      "cell_type": "code",
      "source": [
        "import numpy as np\n",
        "\n",
        "p1 = [1/6, 1/6, 1/6, 1/6, 1/6, 1/6]   # normal\n",
        "p2 = [0.1, 0.1, 0.1, 0.1, 0.1, 0.5]   # loaded\n",
        "\n",
        "def roll(loaded):\n",
        "    if loaded:\n",
        "        print(\"rolling a loaded die\")\n",
        "        p = p2\n",
        "    else:\n",
        "        print(\"rolling a normal die\")\n",
        "        p = p1\n",
        "\n",
        "    # roll the dice 10 times\n",
        "    # add 1 to get dice rolls from 1 to 6 instead of 0 to 5\n",
        "    sequence = np.random.choice(6, size=10, p=p) + 1\n",
        "    for roll in sequence:\n",
        "        print(\"rolled %d\" % roll)\n",
        "\n",
        "    return sequence\n",
        "\n",
        "def bayes(sequence):\n",
        "    odds = 1.0           # start with odds 1:1\n",
        "    for roll in sequence:\n",
        "        if roll == 6:\n",
        "            odds *= 3\n",
        "        else:\n",
        "            odds *= 0.6\n",
        "        pass             # edit here to update the odds\n",
        "    if odds > 1:\n",
        "        return True\n",
        "    else:\n",
        "        return False\n",
        "\n",
        "sequence = roll(False)\n",
        "if bayes(sequence):\n",
        "    print(\"I think loaded\")\n",
        "else:\n",
        "    print(\"I think normal\")\n"
      ],
      "metadata": {
        "colab": {
          "base_uri": "https://localhost:8080/"
        },
        "id": "TCFz7acUi9lI",
        "outputId": "8b660cea-6326-4bde-f00c-461f4d353d28"
      },
      "execution_count": null,
      "outputs": [
        {
          "output_type": "stream",
          "name": "stdout",
          "text": [
            "rolling a normal die\n",
            "rolled 1\n",
            "rolled 1\n",
            "rolled 4\n",
            "rolled 2\n",
            "rolled 3\n",
            "rolled 1\n",
            "rolled 6\n",
            "rolled 3\n",
            "rolled 3\n",
            "rolled 5\n",
            "I think normal\n"
          ]
        }
      ]
    },
    {
      "cell_type": "markdown",
      "source": [
        "Chapter 3"
      ],
      "metadata": {
        "id": "Mi17QNuDjBNE"
      }
    },
    {
      "cell_type": "markdown",
      "source": [
        "Section 1"
      ],
      "metadata": {
        "id": "agBU8aspjHhQ"
      }
    },
    {
      "cell_type": "code",
      "source": [
        "# input values for three mökkis: size, size of sauna, distance to water, number of indoor bathrooms,\n",
        "# proximity of neighbors\n",
        "X = [[66, 5, 15, 2, 500],\n",
        "     [21, 3, 50, 1, 100],\n",
        "     [120, 15, 5, 2, 1200]]\n",
        "c = [3000, 200, -50, 5000, 100]    # coefficient values\n",
        "\n",
        "def predict(X, c):\n",
        "    for mokki in X:\n",
        "        price = 0\n",
        "        for detail in mokki:\n",
        "            price += detail * c[mokki.index(detail)]\n",
        "        print(price)\n",
        "\n",
        "predict(X, c)\n"
      ],
      "metadata": {
        "colab": {
          "base_uri": "https://localhost:8080/"
        },
        "id": "-a3_kvUpjIx2",
        "outputId": "26b623c4-7a9b-45fb-c39f-8c51d942303e"
      },
      "execution_count": null,
      "outputs": [
        {
          "output_type": "stream",
          "name": "stdout",
          "text": [
            "258250\n",
            "76100\n",
            "492750\n"
          ]
        }
      ]
    },
    {
      "cell_type": "code",
      "source": [
        "import numpy as np\n",
        "\n",
        "X = np.array([[66, 5, 15, 2, 500],\n",
        "              [21, 3, 50, 1, 100],\n",
        "              [120, 15, 5, 2, 1200]])\n",
        "y = np.array([250000, 60000, 525000])\n",
        "c = np.array([3000, 200 , -50, 5000, 100])    # coefficient values\n",
        "\n",
        "def squared_error(X, y, c):\n",
        "    sse = 0.0\n",
        "    for xi, yi in zip(X, y):\n",
        "        # add your code here: calculate the predicted price,\n",
        "        # subtract it from the actual price yi,\n",
        "        # square the difference using (yi - prediction)**2,\n",
        "        # and add up all the differences in variable sse\n",
        "        prediction = xi @ c\n",
        "        squaredError = (yi - prediction)**2\n",
        "        sse += squaredError\n",
        "    print(sse)\n",
        "\n",
        "squared_error(X, y, c)\n"
      ],
      "metadata": {
        "colab": {
          "base_uri": "https://localhost:8080/"
        },
        "id": "tIfDdEu_jSQy",
        "outputId": "e9d5394f-92fd-4cd9-acc7-ea56a9a56bba"
      },
      "execution_count": null,
      "outputs": [
        {
          "output_type": "stream",
          "name": "stdout",
          "text": [
            "1367335000.0\n"
          ]
        }
      ]
    },
    {
      "cell_type": "code",
      "source": [
        "import numpy as np\n",
        "\n",
        "\n",
        "def main():\n",
        "    np.set_printoptions(precision=1)\n",
        "\n",
        "    x = np.array(\n",
        "        [\n",
        "            [25, 2, 50, 1, 500],\n",
        "            [39, 3, 10, 1, 1000],\n",
        "            [13, 2, 13, 1, 1000],\n",
        "            [82, 5, 20, 2, 120],\n",
        "            [130, 6, 10, 2, 600],\n",
        "            [115, 6, 10, 1, 550]\n",
        "        ]\n",
        "    )\n",
        "\n",
        "    y = np.array([127900, 222100, 143750, 268000, 460700, 407000])\n",
        "\n",
        "    c = np.linalg.lstsq(x, y)[0]\n",
        "    print(c)\n",
        "\n",
        "    print(x @ c)\n",
        "\n",
        "main()\n"
      ],
      "metadata": {
        "colab": {
          "base_uri": "https://localhost:8080/"
        },
        "id": "QpgKSwjqjTbb",
        "outputId": "2faf9a35-1386-4ca2-d3d0-85b7d20b7248"
      },
      "execution_count": null,
      "outputs": [
        {
          "output_type": "stream",
          "name": "stdout",
          "text": [
            "[2989.6  800.6  -44.8 3890.8   99.8]\n",
            "[127907.6 222269.8 143604.5 268017.6 460686.6 406959.9]\n"
          ]
        },
        {
          "output_type": "stream",
          "name": "stderr",
          "text": [
            "<ipython-input-13-a7a67c5a1d74>:20: FutureWarning: `rcond` parameter will change to the default of machine precision times ``max(M, N)`` where M and N are the input matrix dimensions.\n",
            "To use the future default and silence this warning we advise to pass `rcond=None`, to keep using the old, explicitly pass `rcond=-1`.\n",
            "  c = np.linalg.lstsq(x, y)[0]\n"
          ]
        }
      ]
    },
    {
      "cell_type": "code",
      "source": [
        "import numpy as np\n",
        "\n",
        "def main():\n",
        "    np.set_printoptions(precision=1)    # this just changes the output settings for easier reading\n",
        "    x_train = np.array(\n",
        "        [\n",
        "            [25, 2, 50, 1, 500],\n",
        "            [39, 3, 10, 1, 1000],\n",
        "            [13, 2, 13, 1, 1000],\n",
        "            [82, 5, 20, 2, 120],\n",
        "            [130, 6, 10, 2, 600],\n",
        "            [115, 6, 10, 1, 550 ]\n",
        "        ]\n",
        "    )\n",
        "\n",
        "    y_train = np.array([127900, 222100, 143750, 268000, 460700, 407000])\n",
        "\n",
        "    # add the feature data for the two new cabins here. note: don't include the price data\n",
        "    x_test = np.array(\n",
        "        [\n",
        "            [36, 3, 15, 1, 850],\n",
        "            [75, 5, 18, 2, 540]\n",
        "        ]\n",
        "    )\n",
        "\n",
        "    c = np.linalg.lstsq(x_train, y_train, rcond=-1)[0]\n",
        "\n",
        "    # this will print the predicted prices for the six cabins in the training data\n",
        "    # change this so that it predicts the prices of the two new cabins that are not\n",
        "    # included in the training set\n",
        "\n",
        "    print(x_test @ c)\n",
        "\n",
        "main()\n"
      ],
      "metadata": {
        "colab": {
          "base_uri": "https://localhost:8080/"
        },
        "id": "qI7U73XFjfrK",
        "outputId": "0b1227d6-47e9-4daf-d3a5-066aa29bced2"
      },
      "execution_count": null,
      "outputs": [
        {
          "output_type": "stream",
          "name": "stdout",
          "text": [
            "[198102.4 289108.3]\n"
          ]
        }
      ]
    },
    {
      "cell_type": "markdown",
      "source": [
        "Section 2"
      ],
      "metadata": {
        "id": "6U60QzK7jrVS"
      }
    },
    {
      "cell_type": "code",
      "source": [
        "import numpy as np\n",
        "\n",
        "x_train = np.random.rand(10, 3)   # generate 10 random vectors of dimension 3\n",
        "x_test = np.random.rand(3)        # generate one more random vector of the same dimension\n",
        "\n",
        "def dist(a, b):\n",
        "    sum = 0\n",
        "    for ai, bi in zip(a, b):\n",
        "        sum = sum + (ai - bi)**2\n",
        "    return np.sqrt(sum)\n",
        "\n",
        "def nearest(x_train, x_test):\n",
        "    nearest = -1\n",
        "    min_distance = np.Inf\n",
        "    # add a loop here that goes through all the vectors in x_train and finds the one that\n",
        "    # is nearest to x_test. return the index (between 0, ..., len(x_train)-1) of the nearest\n",
        "    # neighbor\n",
        "    for vector in x_train:\n",
        "        distance = dist(vector, x_test)\n",
        "        if (distance < min_distance):\n",
        "            min_distance = distance\n",
        "            nearest = np.where(x_train == vector)[0][0]\n",
        "    print(nearest)\n",
        "\n",
        "nearest(x_train, x_test)\n"
      ],
      "metadata": {
        "colab": {
          "base_uri": "https://localhost:8080/"
        },
        "id": "DR_hT9mmjsoC",
        "outputId": "2f24db92-6a15-4f27-9088-c07bb5761d4f"
      },
      "execution_count": null,
      "outputs": [
        {
          "output_type": "stream",
          "name": "stdout",
          "text": [
            "7\n"
          ]
        }
      ]
    },
    {
      "cell_type": "code",
      "source": [
        "import numpy as np\n",
        "from sklearn.datasets import make_blobs\n",
        "from sklearn.preprocessing import MinMaxScaler\n",
        "from sklearn.model_selection import train_test_split\n",
        "\n",
        "\n",
        "# create random data with two classes\n",
        "X, y = make_blobs(n_samples=16, n_features=2, centers=2, center_box=(-2, 2))\n",
        "\n",
        "# scale the data so that all values are between 0.0 and 1.0\n",
        "X = MinMaxScaler().fit_transform(X)\n",
        "\n",
        "# split two data points from the data as test data and\n",
        "# use the remaining n-2 points as the training data\n",
        "X_train, X_test, y_train, y_test = train_test_split(X, y, test_size=2)\n",
        "\n",
        "# place-holder for the predicted classes\n",
        "y_predict = np.empty(len(y_test), dtype=np.int64)\n",
        "\n",
        "# produce line segments that connect the test data points\n",
        "# to the nearest neighbors for drawing the chart\n",
        "lines = []\n",
        "\n",
        "\n",
        "# distance function\n",
        "def dist(a, b):\n",
        "    sum = 0\n",
        "    for ai, bi in zip(a, b):\n",
        "        sum = sum + (ai - bi)**2\n",
        "    return np.sqrt(sum)\n",
        "\n",
        "\n",
        "def main(X_train, X_test, y_train, y_test):\n",
        "\n",
        "    global y_predict\n",
        "    global lines\n",
        "\n",
        "    # process each of the test data points\n",
        "    for i, test_item in enumerate(X_test):\n",
        "        # calculate the distances to all training points\n",
        "        distances = [dist(train_item, test_item) for train_item in X_train]\n",
        "\n",
        "        # find the index of the nearest neighbor\n",
        "        nearest = np.argmin(distances)\n",
        "\n",
        "        # create a line connecting the points for the chart\n",
        "        lines.append(np.stack((test_item, X_train[nearest])))\n",
        "\n",
        "        # add your code here:\n",
        "        y_predict[i] = y_train[nearest]          # this just classifies everything as 0\n",
        "\n",
        "    print(y_predict)\n",
        "\n",
        "\n",
        "main(X_train, X_test, y_train, y_test)\n"
      ],
      "metadata": {
        "colab": {
          "base_uri": "https://localhost:8080/"
        },
        "id": "heArdLdojxWC",
        "outputId": "851dff1a-0b10-49d0-b670-d6aca98356c4"
      },
      "execution_count": null,
      "outputs": [
        {
          "output_type": "stream",
          "name": "stdout",
          "text": [
            "[1 1]\n"
          ]
        }
      ]
    },
    {
      "cell_type": "markdown",
      "source": [
        "Section 3"
      ],
      "metadata": {
        "id": "S3lKh3WskCfo"
      }
    },
    {
      "cell_type": "code",
      "source": [
        "# this data here is the bag of words representation of This Little Piggy\n",
        "data = [[1, 0, 0, 1, 0, 0, 1, 0, 1, 0, 0, 0, 0, 0, 0, 0, 1, 1],\n",
        "        [1, 1, 0, 0, 0, 0, 0, 0, 1, 1, 0, 0, 0, 0, 0, 0, 0, 1],\n",
        "        [1, 0, 0, 0, 0, 0, 0, 0, 1, 0, 1, 0, 1, 0, 0, 1, 0, 1],\n",
        "        [1, 0, 0, 0, 0, 0, 0, 0, 1, 0, 1, 1, 0, 0, 0, 0, 0, 1],\n",
        "        [1, 1, 1, 0, 1, 3, 0, 1, 1, 0, 0, 0, 0, 1, 1, 0, 0, 1]]\n",
        "\n",
        "def distance(row1, row2):\n",
        "    # fix this function so that it returns\n",
        "    # the sum of differences between the occurrences\n",
        "    # of each word in row1 and row2.\n",
        "    # you can assume that row1 and row2 are lists with equal length, containing numeric values.\n",
        "    sumOfDiff = 0\n",
        "    for x, y in zip(row1, row2):\n",
        "        sumOfDiff += abs(x-y)\n",
        "    return sumOfDiff\n",
        "\n",
        "def all_pairs(data):\n",
        "    # this calls the distance function for all the two-row combinations in the data\n",
        "    # you do not need to change this\n",
        "    dist = [[distance(sent1, sent2) for sent1 in data] for sent2 in data]\n",
        "    print(dist)\n",
        "\n",
        "all_pairs(data)\n"
      ],
      "metadata": {
        "colab": {
          "base_uri": "https://localhost:8080/"
        },
        "id": "0pWRcNB4kDOQ",
        "outputId": "c9f048d9-8c32-43b8-f988-e935f96bf0a9"
      },
      "execution_count": null,
      "outputs": [
        {
          "output_type": "stream",
          "name": "stdout",
          "text": [
            "[[0, 5, 6, 5, 12], [5, 0, 5, 4, 9], [6, 5, 0, 3, 12], [5, 4, 3, 0, 11], [12, 9, 12, 11, 0]]\n"
          ]
        }
      ]
    },
    {
      "cell_type": "code",
      "source": [
        "# DATA BLOCK\n",
        "\n",
        "text = '''he really really loves coffee\n",
        "my sister dislikes coffee\n",
        "my sister loves tea'''\n",
        "\n",
        "import math\n",
        "\n",
        "def main(text):\n",
        "    # split the text first into lines and then into lists of words\n",
        "    docs = [line.split() for line in text.splitlines()]\n",
        "\n",
        "    N = len(docs)\n",
        "\n",
        "    # create the vocabulary: the list of words that appear at least once\n",
        "    vocabulary = list(set(text.split()))\n",
        "\n",
        "    df = {}\n",
        "    tf = {}\n",
        "    for word in vocabulary:\n",
        "        # tf: number of occurrences of word w in document divided by document length\n",
        "        # note: tf[word] will be a list containing the tf of each word for each document\n",
        "        # for example tf['he'][0] contains the term frequence of the word 'he' in the first\n",
        "        # document\n",
        "        tf[word] = [doc.count(word)/len(doc) for doc in docs]\n",
        "\n",
        "        # df: number of documents containing word w\n",
        "        df[word] = sum([word in doc for doc in docs])/N\n",
        "\n",
        "    # loop through documents to calculate the tf-idf values\n",
        "    for doc_index, doc in enumerate(docs):\n",
        "        tfidf = []\n",
        "        for word in vocabulary:\n",
        "            # ADD THE CORRECT FORMULA HERE. Remember to use the base 10 logarithm: math.log(x, 10)\n",
        "            temptfidf = tf[word][doc_index] * math.log(1/ df[word], 10)\n",
        "            tfidf.append(temptfidf)\n",
        "\n",
        "        print(tfidf)\n",
        "\n",
        "main(text)\n"
      ],
      "metadata": {
        "colab": {
          "base_uri": "https://localhost:8080/"
        },
        "id": "oHgViMxMkGOe",
        "outputId": "e5a65d52-9197-4dfa-fd2a-7df32cca5b24"
      },
      "execution_count": null,
      "outputs": [
        {
          "output_type": "stream",
          "name": "stdout",
          "text": [
            "[0.0, 0.09542425094393249, 0.0, 0.03521825181113625, 0.0, 0.0, 0.03521825181113625, 0.19084850188786498]\n",
            "[0.11928031367991561, 0.0, 0.0, 0.0, 0.04402281476392031, 0.04402281476392031, 0.04402281476392031, 0.0]\n",
            "[0.0, 0.0, 0.11928031367991561, 0.04402281476392031, 0.04402281476392031, 0.04402281476392031, 0.0, 0.0]\n"
          ]
        }
      ]
    },
    {
      "cell_type": "markdown",
      "source": [
        "Section 4"
      ],
      "metadata": {
        "id": "-TGlIjoRkNXO"
      }
    },
    {
      "cell_type": "code",
      "source": [
        "from sklearn.neighbors import KNeighborsClassifier\n",
        "from sklearn.datasets import make_moons\n",
        "from sklearn.model_selection import train_test_split\n",
        "import numpy as np\n",
        "\n",
        "# do not edit this\n",
        "# create fake data\n",
        "x, y = make_moons(\n",
        "    n_samples=500,  # the number of observations\n",
        "    random_state=42,\n",
        "    noise=0.3\n",
        ")\n",
        "x_train, x_test, y_train, y_test = train_test_split(x, y, test_size=0.33, random_state=42)\n",
        "\n",
        "# Create a classifier and fit it to our data\n",
        "k=100\n",
        "knn = KNeighborsClassifier(n_neighbors=k)\n",
        "knn.fit(x_train, y_train)\n",
        "train_acc = knn.score(x_train, y_train)\n",
        "test_acc = knn.score(x_test, y_test)\n",
        "\n",
        "print(\"training accuracy: %f\" % train_acc)\n",
        "print(\"testing accuracy: %f\" % test_acc)"
      ],
      "metadata": {
        "colab": {
          "base_uri": "https://localhost:8080/"
        },
        "id": "6kT3lvnQkOAn",
        "outputId": "4bbba395-88b9-491f-ae05-1f54139785fe"
      },
      "execution_count": null,
      "outputs": [
        {
          "output_type": "stream",
          "name": "stdout",
          "text": [
            "training accuracy: 0.880597\n",
            "testing accuracy: 0.890909\n"
          ]
        }
      ]
    },
    {
      "cell_type": "markdown",
      "source": [
        "Chapter 4"
      ],
      "metadata": {
        "id": "WRb7yDGXkdN6"
      }
    },
    {
      "cell_type": "markdown",
      "source": [
        "Section 1"
      ],
      "metadata": {
        "id": "hnam8IVjkgmX"
      }
    },
    {
      "cell_type": "code",
      "source": [
        "import math\n",
        "import numpy as np\n",
        "\n",
        "x = np.array([4, 3, 0])\n",
        "c1 = np.array([-.5, .1, .08])\n",
        "c2 = np.array([-.2, .2, .31])\n",
        "c3 = np.array([.5, -.1, 2.53])\n",
        "\n",
        "def sigmoid(z):\n",
        "    # add your implementation of the sigmoid function here\n",
        "    return (1 / (1 + np.exp(-z)))\n",
        "\n",
        "# calculate the output of the sigmoid for x with all three coefficients\n",
        "print(sigmoid(x @ c1))\n",
        "print(sigmoid(x @ c2))\n",
        "print(sigmoid(x @ c3))"
      ],
      "metadata": {
        "colab": {
          "base_uri": "https://localhost:8080/"
        },
        "id": "be1_GW_NkfL4",
        "outputId": "8170b73a-1248-4b73-e9fd-e113452f68a9"
      },
      "execution_count": null,
      "outputs": [
        {
          "output_type": "stream",
          "name": "stdout",
          "text": [
            "0.1544652650835347\n",
            "0.45016600268752216\n",
            "0.8455347349164652\n"
          ]
        }
      ]
    },
    {
      "cell_type": "markdown",
      "source": [
        "Section 2"
      ],
      "metadata": {
        "id": "FzrIp0UWl_gd"
      }
    },
    {
      "cell_type": "code",
      "source": [
        "import numpy as np\n",
        "\n",
        "w0 = np.array([[ 1.19627687e+01,  2.60163283e-01],\n",
        "               [ 4.48832507e-01,  4.00666119e-01],\n",
        "                   [-2.75768443e-01,  3.43724167e-01],\n",
        "                   [ 2.29138536e+01,  3.91783025e-01],\n",
        "                   [-1.22397711e-02, -1.03029800e+00]])\n",
        "\n",
        "w1 = np.array([[11.5631751 , 11.87043684],\n",
        "                   [-0.85735419,  0.27114237]])\n",
        "\n",
        "w2 = np.array([[11.04122165],\n",
        "                   [10.44637262]])\n",
        "\n",
        "b0 = np.array([-4.21310294, -0.52664488])\n",
        "b1 = np.array([-4.84067881, -4.53335139])\n",
        "b2 = np.array([-7.52942418])\n",
        "\n",
        "x = np.array([[111, 13, 12, 1, 161],\n",
        "                 [125, 13, 66, 1, 468],\n",
        "                 [46, 6, 127, 2, 961],\n",
        "                 [80, 9, 80, 2, 816],\n",
        "                 [33, 10, 18, 2, 297],\n",
        "                 [85, 9, 111, 3, 601],\n",
        "                 [24, 10, 105, 2, 1072],\n",
        "                 [31, 4, 66, 1, 417],\n",
        "                 [56, 3, 60, 1, 36],\n",
        "                 [49, 3, 147, 2, 179]])\n",
        "y = np.array([335800., 379100., 118950., 247200., 107950., 266550.,  75850.,\n",
        "                93300., 170650., 149000.])\n",
        "\n",
        "\n",
        "def hidden_activation(z):\n",
        "    # ReLU activation. fix this!\n",
        "    return np.maximum(z, 0)\n",
        "\n",
        "def output_activation(z):\n",
        "    # identity (linear) activation. fix this!\n",
        "    return z\n",
        "\n",
        "x_test = [[82, 2, 65, 3, 516]]\n",
        "for item in x_test:\n",
        "    h1_in = np.dot(item, w0) + b0 # this calculates the linear combination of inputs and weights\n",
        "    h1_out = hidden_activation(h1_in) # apply activation function\n",
        "\n",
        "    # fill out the missing parts:\n",
        "    # the output of the first hidden layer, h1_out, will need to go through\n",
        "    # the second hidden layer with weights w1 and bias b1\n",
        "    h2_in = np.dot(h1_out, w1) + b1\n",
        "    h2_out = hidden_activation(h2_in)\n",
        "\n",
        "    # and finally to the output layer with weights w2 and bias b2.\n",
        "    # remember correct activations: relu in the hidden layers and linear (identity) in the output\n",
        "    out_in = np.dot(h2_out, w2) + b2\n",
        "    out = output_activation(out_in)\n",
        "\n",
        "    print(out)"
      ],
      "metadata": {
        "colab": {
          "base_uri": "https://localhost:8080/"
        },
        "id": "YDJWZiWakkgy",
        "outputId": "156a39e0-823c-4c08-c06e-cf4f7051a9f5"
      },
      "execution_count": null,
      "outputs": [
        {
          "output_type": "stream",
          "name": "stdout",
          "text": [
            "[257136.4]\n"
          ]
        }
      ]
    }
  ]
}